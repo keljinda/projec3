{
 "cells": [
  {
   "cell_type": "markdown",
   "id": "a0e04de6-6cd9-4251-8468-8c49f3204b21",
   "metadata": {},
   "source": [
    "# Aim to compare \n",
    "- Linear Regression\n",
    "- k-Nearest Neighbors Classifier\n",
    "- Decision Tree Classifier\n",
    "- Bagged Decision Tree Classifier\n",
    "- Random Forest Classifier\n",
    "- Ada Boosting Classifier\n",
    "- Multinomial Naive Bayes Classifier\n",
    "- Bernoulli Naive Bayes Classifier"
   ]
  },
  {
   "cell_type": "code",
   "execution_count": 2,
   "id": "fc2d1c08-9ff3-43ed-9429-6e8121721736",
   "metadata": {},
   "outputs": [],
   "source": [
    "import pandas as pd\n",
    "import numpy as np\n",
    "\n",
    "from sklearn.preprocessing import StandardScaler\n",
    "from sklearn.model_selection import RandomizedSearchCV, GridSearchCV,train_test_split\n",
    "from sklearn.pipeline import Pipeline, make_pipeline\n",
    "from sklearn.metrics import classification_report, accuracy_score\n",
    "\n",
    "from sklearn.linear_model import LogisticRegression\n",
    "from sklearn.neighbors import KNeighborsClassifier\n",
    "from sklearn.tree import DecisionTreeClassifier\n",
    "from sklearn.ensemble import RandomForestClassifier,AdaBoostClassifier, BaggingClassifier\n",
    "from sklearn.naive_bayes import MultinomialNB, GaussianNB, BernoulliNB\n",
    "\n",
    "from sklearn import metrics\n",
    "from sklearn.metrics import confusion_matrix, classification_report,ConfusionMatrixDisplay\n",
    "\n",
    "# Import NLP library\n",
    "from nltk.corpus import stopwords\n",
    "from sklearn.feature_extraction.text import CountVectorizer, TfidfVectorizer"
   ]
  },
  {
   "cell_type": "code",
   "execution_count": 3,
   "id": "7f10b87f-bcc9-4c8a-b191-b398928361a7",
   "metadata": {},
   "outputs": [],
   "source": [
    "# Read clean CSV that export from EDA process\n",
    "pod = pd.read_csv('../datasets/print_clean.csv')"
   ]
  },
  {
   "cell_type": "code",
   "execution_count": 4,
   "id": "c5e08301-5a6a-4f21-8e7a-547525771ca4",
   "metadata": {},
   "outputs": [],
   "source": [
    "# stopword\n",
    "new_stopwords = stopwords.words('english')\n",
    "new_stopwords.extend(['https','order','platform','pod', 'printify', 'printful','want','would', \n",
    "                      'print', 'on', 'demand', 'printondemand','via','com','anyone','one'])"
   ]
  },
  {
   "cell_type": "code",
   "execution_count": 5,
   "id": "440b36d9-e322-428e-82c2-f4aaba1cd890",
   "metadata": {},
   "outputs": [
    {
     "data": {
      "text/plain": [
       "array([1, 0])"
      ]
     },
     "execution_count": 5,
     "metadata": {},
     "output_type": "execute_result"
    }
   ],
   "source": [
    "pod['source'].unique() \n",
    "\n",
    "# We set binary value in 'source' earlier\n",
    "# printify = 0\n",
    "# printful = 1"
   ]
  },
  {
   "cell_type": "markdown",
   "id": "7b290c6a-6e8d-49d6-808d-42e752812f0e",
   "metadata": {},
   "source": [
    "---"
   ]
  },
  {
   "cell_type": "markdown",
   "id": "bddc0787-12eb-4f9b-9bf0-8f7a96f764cd",
   "metadata": {},
   "source": [
    "## Preparing process"
   ]
  },
  {
   "cell_type": "code",
   "execution_count": 8,
   "id": "f91f0877-fabd-4847-9c72-306dd19fdd4a",
   "metadata": {},
   "outputs": [],
   "source": [
    "## Multinomial Naive Bayes Classifier\n",
    "## Bernoulli Naive Bayes Classifier"
   ]
  },
  {
   "cell_type": "code",
   "execution_count": 9,
   "id": "11b11549-1ea9-4dae-9fc5-47e9ca432f60",
   "metadata": {},
   "outputs": [],
   "source": [
    "# Set X,y\n",
    "X = pod['title_lemma']  # The title\n",
    "y = pod['source'] "
   ]
  },
  {
   "cell_type": "code",
   "execution_count": 10,
   "id": "af1cf71c-0eea-4956-9dde-4237adcbb007",
   "metadata": {},
   "outputs": [],
   "source": [
    "# Split the data\n",
    "X_train,X_test,y_train,y_test = train_test_split(X,y,stratify=y,random_state=42)"
   ]
  },
  {
   "cell_type": "code",
   "execution_count": 11,
   "id": "af925842-7412-4f85-ada1-8435990e5685",
   "metadata": {},
   "outputs": [
    {
     "data": {
      "text/plain": [
       "((1360,), (454,), (1360,), (454,))"
      ]
     },
     "execution_count": 11,
     "metadata": {},
     "output_type": "execute_result"
    }
   ],
   "source": [
    "# Check shape\n",
    "X_train.shape, X_test.shape, y_train.shape, y_test.shape"
   ]
  },
  {
   "cell_type": "code",
   "execution_count": 12,
   "id": "16ea50c8-9e02-40ef-b3bf-a6ba8318a0ae",
   "metadata": {},
   "outputs": [
    {
     "data": {
      "text/plain": [
       "source\n",
       "1    51.47\n",
       "0    48.53\n",
       "Name: proportion, dtype: float64"
      ]
     },
     "execution_count": 12,
     "metadata": {},
     "output_type": "execute_result"
    }
   ],
   "source": [
    "y_train.value_counts(normalize=True).mul(100).round(2)"
   ]
  },
  {
   "cell_type": "code",
   "execution_count": 13,
   "id": "b394bb2e-0b07-443d-998d-c60074c506bd",
   "metadata": {},
   "outputs": [
    {
     "data": {
      "text/plain": [
       "source\n",
       "1    51.54\n",
       "0    48.46\n",
       "Name: proportion, dtype: float64"
      ]
     },
     "execution_count": 13,
     "metadata": {},
     "output_type": "execute_result"
    }
   ],
   "source": [
    "y_test.value_counts(normalize=True).mul(100).round(2)"
   ]
  },
  {
   "cell_type": "code",
   "execution_count": 14,
   "id": "4fa862ab-74e4-40fd-9e28-4c82c6a311a0",
   "metadata": {},
   "outputs": [],
   "source": [
    "# Baseline Accuracy is balance. Class 1 (the majority class) would yield a baseline accuracy of ~51%."
   ]
  },
  {
   "cell_type": "markdown",
   "id": "7701a24f-25ab-4e35-9306-a2768e1b3438",
   "metadata": {},
   "source": [
    "---"
   ]
  },
  {
   "cell_type": "markdown",
   "id": "400e03e4-48d1-47d6-bf7a-10254fdd3dea",
   "metadata": {},
   "source": [
    "## Model Comparsion"
   ]
  },
  {
   "cell_type": "code",
   "execution_count": 17,
   "id": "dfbae7e9-dfe6-4ba2-87ec-03e5aed58f8e",
   "metadata": {},
   "outputs": [],
   "source": [
    "classification_models = {\n",
    "    'logistic regression': LogisticRegression(),\n",
    "    'KNN': KNeighborsClassifier(),\n",
    "    'Decision Tree': DecisionTreeClassifier(),\n",
    "    'Bagging': BaggingClassifier(), \n",
    "    'Random Forest': RandomForestClassifier(),\n",
    "    'AdaBoost': AdaBoostClassifier(algorithm='SAMME')\n",
    "}"
   ]
  },
  {
   "cell_type": "code",
   "execution_count": 18,
   "id": "7a33761c-a1e6-4c10-88bb-e3ff73531236",
   "metadata": {},
   "outputs": [],
   "source": [
    "def pipeline_classification_models(X_train, X_test, y_train, y_test, classification_models,n_stop_words):\n",
    "\n",
    "    results = {}\n",
    "    \n",
    "    for name, classification_model in classification_models.items():\n",
    "        print(f\"Training and evaluating model: {name}\")\n",
    "        pipeline = Pipeline([\n",
    "            ('cv', CountVectorizer(stop_words=n_stop_words)),  \n",
    "            ('model', classification_model)\n",
    "        ])\n",
    "        \n",
    "        pipeline.fit(X_train, y_train)\n",
    "        y_pred = pipeline.predict(X_test)\n",
    "        \n",
    "        # Evaluate model\n",
    "        accuracy = accuracy_score(y_test, y_pred)\n",
    "        report = classification_report(y_test, y_pred)\n",
    "        \n",
    "        results[name] = {\n",
    "            'accuracy': accuracy,\n",
    "            'classification_report': report\n",
    "        }\n",
    "        \n",
    "        # Print results\n",
    "        print(f\"Accuracy for {name}: {accuracy:.4f}\")\n",
    "        print(report)\n",
    "        print(\"==========================================================\")\n",
    "    \n",
    "    return results"
   ]
  },
  {
   "cell_type": "code",
   "execution_count": 19,
   "id": "02601a34-bbef-4a81-9806-48c74a54d9cf",
   "metadata": {},
   "outputs": [
    {
     "name": "stdout",
     "output_type": "stream",
     "text": [
      "Training and evaluating model: logistic regression\n",
      "Accuracy for logistic regression: 0.6079\n",
      "              precision    recall  f1-score   support\n",
      "\n",
      "           0       0.59      0.61      0.60       220\n",
      "           1       0.62      0.61      0.61       234\n",
      "\n",
      "    accuracy                           0.61       454\n",
      "   macro avg       0.61      0.61      0.61       454\n",
      "weighted avg       0.61      0.61      0.61       454\n",
      "\n",
      "==========================================================\n",
      "Training and evaluating model: KNN\n",
      "Accuracy for KNN: 0.5088\n",
      "              precision    recall  f1-score   support\n",
      "\n",
      "           0       0.50      0.80      0.61       220\n",
      "           1       0.56      0.23      0.33       234\n",
      "\n",
      "    accuracy                           0.51       454\n",
      "   macro avg       0.53      0.52      0.47       454\n",
      "weighted avg       0.53      0.51      0.47       454\n",
      "\n",
      "==========================================================\n",
      "Training and evaluating model: Decision Tree\n",
      "Accuracy for Decision Tree: 0.5991\n",
      "              precision    recall  f1-score   support\n",
      "\n",
      "           0       0.57      0.71      0.63       220\n",
      "           1       0.65      0.49      0.56       234\n",
      "\n",
      "    accuracy                           0.60       454\n",
      "   macro avg       0.61      0.60      0.60       454\n",
      "weighted avg       0.61      0.60      0.59       454\n",
      "\n",
      "==========================================================\n",
      "Training and evaluating model: Bagging\n",
      "Accuracy for Bagging: 0.5463\n",
      "              precision    recall  f1-score   support\n",
      "\n",
      "           0       0.52      0.68      0.59       220\n",
      "           1       0.58      0.42      0.49       234\n",
      "\n",
      "    accuracy                           0.55       454\n",
      "   macro avg       0.55      0.55      0.54       454\n",
      "weighted avg       0.55      0.55      0.54       454\n",
      "\n",
      "==========================================================\n",
      "Training and evaluating model: Random Forest\n",
      "Accuracy for Random Forest: 0.5507\n",
      "              precision    recall  f1-score   support\n",
      "\n",
      "           0       0.53      0.65      0.59       220\n",
      "           1       0.58      0.45      0.51       234\n",
      "\n",
      "    accuracy                           0.55       454\n",
      "   macro avg       0.56      0.55      0.55       454\n",
      "weighted avg       0.56      0.55      0.55       454\n",
      "\n",
      "==========================================================\n",
      "Training and evaluating model: AdaBoost\n",
      "Accuracy for AdaBoost: 0.5507\n",
      "              precision    recall  f1-score   support\n",
      "\n",
      "           0       0.86      0.09      0.16       220\n",
      "           1       0.53      0.99      0.69       234\n",
      "\n",
      "    accuracy                           0.55       454\n",
      "   macro avg       0.70      0.54      0.43       454\n",
      "weighted avg       0.69      0.55      0.43       454\n",
      "\n",
      "==========================================================\n"
     ]
    }
   ],
   "source": [
    "results = pipeline_classification_models(X_train, X_test, y_train, y_test, classification_models,new_stopwords)"
   ]
  },
  {
   "cell_type": "code",
   "execution_count": 20,
   "id": "06ba3dd9-e74e-4779-b18e-ac3a00d5cc70",
   "metadata": {},
   "outputs": [],
   "source": [
    "# We don't scale our features and target because the accuracy were dropped \n",
    "# Significant the overfitting \n",
    "# Experiment with other boosting techniques, \n",
    "# such as Gradient Boosting or XGBoost to improve the accuracy"
   ]
  },
  {
   "cell_type": "code",
   "execution_count": 21,
   "id": "8f9dee57-70a2-4bb6-8b11-e2294ec53c55",
   "metadata": {},
   "outputs": [],
   "source": [
    "# Multinomial \n",
    "# BernoulliNB\n",
    "\n",
    "#Bernoulli Naive Bayes: Our data\n",
    "#Word present/absent\n",
    "#Features: \"title_lemma\"  , \"body_lemma\"\n",
    "#Source: printify and printful have 0/1 variables.\n",
    "\n",
    "#Multinomial Naive Bayes: when our variables are positive integers.\n",
    "#Text classification (word counts)\n",
    "#Features: \"etsy\" (appears 345 times), \"product\" (appears 341 times), \"shipping\" (appears 336 time)\n",
    "#Counts how many times each word appears\n",
    "\n",
    "#According to our data is text classification with no weight , we selected multinomial plus \n",
    "#and Bernoulli Naive Bayes to compare"
   ]
  },
  {
   "cell_type": "code",
   "execution_count": 22,
   "id": "5133df31-d3ef-43cd-b8d5-256c98afcdbd",
   "metadata": {},
   "outputs": [],
   "source": [
    "# Small datasets (<10,000 samples): \n",
    "# Start with max_features = 1,000–5,000. \n",
    "# min_df For small datasets: set to 2-5 documents\n",
    "# max_df 0.7-0.8 to handle repetitive content that number is common approach for social media\n",
    "# ngram_range (1,3) for hashtags and longer phrases\n",
    "\n",
    "# Smaller feature sets are usually sufficient for datasets with limited text and vocabulary."
   ]
  },
  {
   "cell_type": "code",
   "execution_count": 23,
   "id": "32019433-eac7-4fab-af6e-df2255601f9c",
   "metadata": {},
   "outputs": [],
   "source": [
    "pipe_params = {\n",
    "    'cvec__max_features': [2_000, 3_000, 4_000, 5_000],\n",
    "    'cvec__min_df': [2,5],\n",
    "    'cvec__max_df': [.7, .8],\n",
    "    'cvec__ngram_range': [(1,3)]\n",
    "}"
   ]
  },
  {
   "cell_type": "code",
   "execution_count": 24,
   "id": "dab9618b-fff7-4b72-b74b-12ec77092abb",
   "metadata": {},
   "outputs": [],
   "source": [
    "nb_models = {\n",
    "    'MultinomialNB': MultinomialNB(),\n",
    "    'BernoulliNB': BernoulliNB()}"
   ]
  },
  {
   "cell_type": "code",
   "execution_count": 25,
   "id": "d750544d-7141-4890-a5e0-bd3e4752bd18",
   "metadata": {},
   "outputs": [
    {
     "name": "stdout",
     "output_type": "stream",
     "text": [
      "Train Score for MultinomialNB: 0.7801470588235294\n",
      "Best Cross-Validation Score for MultinomialNB: 0.5551\n",
      "Test Accuracy for MultinomialNB: 0.5859\n",
      "              precision    recall  f1-score   support\n",
      "\n",
      "           0       0.58      0.54      0.56       220\n",
      "           1       0.59      0.63      0.61       234\n",
      "\n",
      "    accuracy                           0.59       454\n",
      "   macro avg       0.59      0.58      0.58       454\n",
      "weighted avg       0.59      0.59      0.58       454\n",
      "\n",
      "==========================================================\n",
      "Train Score for BernoulliNB: 0.7816176470588235\n",
      "Best Cross-Validation Score for BernoulliNB: 0.5449\n",
      "Test Accuracy for BernoulliNB: 0.5859\n",
      "              precision    recall  f1-score   support\n",
      "\n",
      "           0       0.58      0.54      0.56       220\n",
      "           1       0.59      0.63      0.61       234\n",
      "\n",
      "    accuracy                           0.59       454\n",
      "   macro avg       0.59      0.58      0.58       454\n",
      "weighted avg       0.59      0.59      0.59       454\n",
      "\n",
      "==========================================================\n"
     ]
    },
    {
     "data": {
      "image/png": "[encoded data removed]",
      "text/plain": [
       "<Figure size 640x480 with 2 Axes>"
      ]
     },
     "metadata": {},
     "output_type": "display_data"
    },
    {
     "data": {
      "image/png": "[encoded data removed]",
      "text/plain": [
       "<Figure size 640x480 with 2 Axes>"
      ]
     },
     "metadata": {},
     "output_type": "display_data"
    }
   ],
   "source": [
    "def pipeline_nb_models(X_train, X_test, y_train, y_test, classification_models, n_stop_words, pipe_params):\n",
    "    results = {}\n",
    "    for name, nb_model in classification_models.items():  # Iterate over classification_models\n",
    "        # Define the pipeline with a CountVectorizer and the Naive Bayes model\n",
    "        pipe = Pipeline([\n",
    "            ('cvec', CountVectorizer(stop_words=n_stop_words)),  # CountVectorizer with stop words\n",
    "            ('nb_model', nb_model)  # Naive Bayes model\n",
    "        ])\n",
    "        \n",
    "        # Perform grid search with cross-validation to find the best parameters\n",
    "        gs = GridSearchCV(pipe,  # The pipeline to optimize\n",
    "                          param_grid=pipe_params,  # Parameter grid to search over\n",
    "                          cv=5,  # Number of folds in cross-validation\n",
    "                          n_jobs=2)   # Data not that big, no need to use all cpu to search the best param\n",
    "        \n",
    "        # Fit the grid search to the training data\n",
    "        gs.fit(X_train, y_train)\n",
    "\n",
    "        # Get results from the grid search\n",
    "        best_score = gs.best_score_  # Best cross-validation score\n",
    "        train_score = gs.score(X_train, y_train)  # Training set score with the best parameters\n",
    "        test_score = gs.score(X_test, y_test)  # Test set score with the best parameters\n",
    "        y_preds = gs.predict(X_test)  # Predictions on the test set\n",
    "        cm = confusion_matrix(y_test, y_preds)  # Confusion matrix\n",
    "\n",
    "        # Store results\n",
    "        results[name] = {\n",
    "            'best_score': best_score,\n",
    "            'train_score': train_score,\n",
    "            'test_score': test_score,\n",
    "            'confusion_matrix': cm,\n",
    "            'classification_report': classification_report(y_test, y_preds)\n",
    "        }\n",
    "\n",
    "        # Print results\n",
    "        print(f\"Train Score for {name}: {train_score}\")\n",
    "        print(f\"Best Cross-Validation Score for {name}: {best_score:.4f}\")\n",
    "        print(f\"Test Accuracy for {name}: {test_score:.4f}\")\n",
    "        print(classification_report(y_test, y_preds))\n",
    "        print(\"==========================================================\")\n",
    "\n",
    "        # Plot confusion matrix\n",
    "        ConfusionMatrixDisplay(confusion_matrix=cm, display_labels=gs.classes_).plot()\n",
    "\n",
    "    return results\n",
    "\n",
    "\n",
    "results = pipeline_nb_models(X_train, X_test, y_train, y_test, nb_models, new_stopwords, pipe_params)\n"
   ]
  },
  {
   "cell_type": "code",
   "execution_count": 26,
   "id": "7599632d-1f6f-45fb-8b89-c052a961a840",
   "metadata": {},
   "outputs": [],
   "source": [
    "# Key Takeaway\n",
    "# Both models show moderate performance with signs of overfitting (Train score > test score). \n",
    "# Neither model achieves high accuracy or perfectly balanced precision and recall, especially for class 0."
   ]
  },
  {
   "cell_type": "code",
   "execution_count": 27,
   "id": "1968abfb-5fe5-45ef-aff2-df10a84eaec9",
   "metadata": {},
   "outputs": [],
   "source": [
    "# Recap : \n",
    "# printify = 0\n",
    "# printful = 1\n",
    "#True negatives are things we correctly predict to be negative.\n",
    "#In this case, since printful = 1, a true negative means I correctly predict something is a printify post."
   ]
  },
  {
   "cell_type": "code",
   "execution_count": 28,
   "id": "0829e627-151c-4d8a-b391-d38aa2ceb199",
   "metadata": {},
   "outputs": [],
   "source": [
    "#False positives are things we falsely predict to be positive.\n",
    "#In this case, since printful = 1, a false positive means I incorrectly predict something is a tweet \n",
    "#(when it's really a #In this case, since printful = 1, \n",
    "#a true negative means I correctly predict something is a printify post)"
   ]
  }
 ],
 "metadata": {
  "kernelspec": {
   "display_name": "Python 3 (ipykernel)",
   "language": "python",
   "name": "python3"
  },
  "language_info": {
   "codemirror_mode": {
    "name": "ipython",
    "version": 3
   },
   "file_extension": ".py",
   "mimetype": "text/x-python",
   "name": "python",
   "nbconvert_exporter": "python",
   "pygments_lexer": "ipython3",
   "version": "3.12.4"
  }
 },
 "nbformat": 4,
 "nbformat_minor": 5
}
